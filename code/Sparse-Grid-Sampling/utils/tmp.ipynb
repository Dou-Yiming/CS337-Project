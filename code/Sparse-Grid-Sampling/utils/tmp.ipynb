{
 "cells": [
  {
   "cell_type": "code",
   "execution_count": 92,
   "metadata": {},
   "outputs": [],
   "source": [
    "import numpy as np\n",
    "from scipy.spatial import Delaunay\n",
    "import matplotlib.pyplot as plt\n",
    "import cv2\n"
   ]
  },
  {
   "cell_type": "code",
   "execution_count": 93,
   "metadata": {},
   "outputs": [],
   "source": [
    "corner=np.array([[0, 0], [0, 1], [1, 0], [1, 1]])\n",
    "points = np.random.random((10000, 2))\n",
    "points=np.concatenate((corner,points))\n",
    "points*=[255,255]\n",
    "points=np.array(points,dtype=int)\n",
    "tri = Delaunay(points)"
   ]
  },
  {
   "cell_type": "code",
   "execution_count": 94,
   "metadata": {},
   "outputs": [
    {
     "data": {
      "image/png": "[encoded data removed]",
      "text/plain": [
       "<Figure size 432x288 with 1 Axes>"
      ]
     },
     "metadata": {
      "needs_background": "light"
     },
     "output_type": "display_data"
    }
   ],
   "source": [
    "plt.triplot(points[:,0], points[:,1], tri.simplices)\n",
    "plt.plot(points[:,0], points[:,1], 'o')\n",
    "plt.show()"
   ]
  },
  {
   "cell_type": "code",
   "execution_count": 95,
   "metadata": {},
   "outputs": [],
   "source": [
    "img=cv2.imread(\"../data/Set5/butterfly.png\")"
   ]
  },
  {
   "cell_type": "code",
   "execution_count": 96,
   "metadata": {},
   "outputs": [],
   "source": [
    "points_coord=points[tri.simplices]"
   ]
  },
  {
   "cell_type": "code",
   "execution_count": 97,
   "metadata": {},
   "outputs": [],
   "source": [
    "class Triangle:\n",
    "    def __init__(self, coordinate, color) -> None:\n",
    "        self.coordinate = coordinate\n",
    "        self.color = color\n",
    "\n",
    "    def in_triangle(self, p):\n",
    "        pa = self.coordinate[0]-p\n",
    "        pb = self.coordinate[1]-p\n",
    "        pc = self.coordinate[2]-p\n",
    "        t1 = np.cross(pa, pb)\n",
    "        t2 = np.cross(pb, pc)\n",
    "        t3 = np.cross(pc, pa)\n",
    "        return t1*t2 >= 0 and t1*t3 >= 0\n"
   ]
  },
  {
   "cell_type": "code",
   "execution_count": 98,
   "metadata": {},
   "outputs": [],
   "source": [
    "tris=[]\n",
    "for c in points_coord:\n",
    "    color = np.array([img[c[0][0]][c[0][1]], img[c[1][0]][c[1][1]], img[c[2][0]][c[2][1]]])\n",
    "    color = np.mean(color, axis=0)\n",
    "    tris.append(Triangle(c,color))"
   ]
  },
  {
   "cell_type": "code",
   "execution_count": 99,
   "metadata": {},
   "outputs": [
    {
     "name": "stderr",
     "output_type": "stream",
     "text": [
      "100%|██████████| 18478/18478 [00:51<00:00, 355.96it/s]\n"
     ]
    }
   ],
   "source": [
    "from tqdm import tqdm\n",
    "computed=set()\n",
    "sample=np.zeros((256,256,3))\n",
    "for t in tqdm(tris):  # for each triangle\n",
    "    bbox = np.array([[np.min(t.coordinate[:, 0]), np.min(t.coordinate[:, 1])],\n",
    "                     [np.max(t.coordinate[:, 0]), np.max(t.coordinate[:, 1])]])\n",
    "    cv2.imwrite('tri_butterfly.png',sample)\n",
    "    for x in range(bbox[0][0], bbox[1][0]+1):\n",
    "        for y in range(bbox[0][1], bbox[1][1]+1):\n",
    "            if (x,y) in computed:\n",
    "                continue\n",
    "            if t.in_triangle(np.array([x,y])):\n",
    "                computed.add((x,y))\n",
    "                sample[x][y]=t.color\n",
    "sample=np.array(sample,dtype=np.uint8)"
   ]
  },
  {
   "cell_type": "code",
   "execution_count": 100,
   "metadata": {},
   "outputs": [
    {
     "name": "stdout",
     "output_type": "stream",
     "text": [
      "(256, 256, 3)\n"
     ]
    }
   ],
   "source": [
    "print(sample.shape)\n",
    "# cv2.imshow('sample',sample)\n",
    "cv2.imwrite('tri_butterfly.png',sample)\n",
    "cv2.destroyAllWindows()"
   ]
  }
 ],
 "metadata": {
  "interpreter": {
   "hash": "c156225d649cdcab61d2beb93b7f2b03b859aa444dbacadf1aba4c6b276e13f8"
  },
  "kernelspec": {
   "display_name": "Python 3.7.9 64-bit ('torch_env': conda)",
   "language": "python",
   "name": "python3"
  },
  "language_info": {
   "codemirror_mode": {
    "name": "ipython",
    "version": 3
   },
   "file_extension": ".py",
   "mimetype": "text/x-python",
   "name": "python",
   "nbconvert_exporter": "python",
   "pygments_lexer": "ipython3",
   "version": "3.7.9"
  },
  "orig_nbformat": 4
 },
 "nbformat": 4,
 "nbformat_minor": 2
}
