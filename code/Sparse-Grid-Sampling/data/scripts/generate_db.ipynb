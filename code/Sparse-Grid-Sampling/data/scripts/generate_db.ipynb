{
 "cells": [
  {
   "cell_type": "code",
   "execution_count": 33,
   "metadata": {},
   "outputs": [],
   "source": [
    "import pickle\n",
    "import os\n",
    "import cv2\n",
    "import random"
   ]
  },
  {
   "cell_type": "code",
   "execution_count": 34,
   "metadata": {},
   "outputs": [],
   "source": [
    "dataset_name='union'"
   ]
  },
  {
   "cell_type": "code",
   "execution_count": 35,
   "metadata": {},
   "outputs": [
    {
     "name": "stdout",
     "output_type": "stream",
     "text": [
      "304 32 1\n"
     ]
    }
   ],
   "source": [
    "train = []\n",
    "val = []\n",
    "test = []\n",
    "for root, dirs, files in os.walk(\"../{}\".format(dataset_name)):\n",
    "    for i in range(len(files)):\n",
    "        file = files[i]\n",
    "        file_path = os.path.join(root, file)\n",
    "        v = random.random()\n",
    "        if v < 0.9:\n",
    "            train.append({'file_name': file})\n",
    "        elif v < 0.99:\n",
    "            val.append({'file_name': file})\n",
    "        else:\n",
    "            test.append({'file_name': file})\n",
    "print(len(train), len(val), len(test))\n"
   ]
  },
  {
   "cell_type": "code",
   "execution_count": 36,
   "metadata": {},
   "outputs": [],
   "source": [
    "with open('../dbs/{}_train.pkl'.format(dataset_name),'wb') as f:\n",
    "    pickle.dump(train,f)\n",
    "with open('../dbs/{}_val.pkl'.format(dataset_name),'wb') as f:\n",
    "    pickle.dump(val,f)\n",
    "with open('../dbs/{}_test.pkl'.format(dataset_name),'wb') as f:\n",
    "    pickle.dump(test,f)"
   ]
  }
 ],
 "metadata": {
  "interpreter": {
   "hash": "c156225d649cdcab61d2beb93b7f2b03b859aa444dbacadf1aba4c6b276e13f8"
  },
  "kernelspec": {
   "display_name": "Python 3.7.9 64-bit ('torch_env': conda)",
   "language": "python",
   "name": "python3"
  },
  "language_info": {
   "codemirror_mode": {
    "name": "ipython",
    "version": 3
   },
   "file_extension": ".py",
   "mimetype": "text/x-python",
   "name": "python",
   "nbconvert_exporter": "python",
   "pygments_lexer": "ipython3",
   "version": "3.7.9"
  },
  "orig_nbformat": 4
 },
 "nbformat": 4,
 "nbformat_minor": 2
}
