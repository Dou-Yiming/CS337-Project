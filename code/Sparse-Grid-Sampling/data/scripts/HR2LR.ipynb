{
 "cells": [
  {
   "cell_type": "code",
   "execution_count": 6,
   "metadata": {},
   "outputs": [],
   "source": [
    "import numpy as np\n",
    "from scipy.spatial import Delaunay\n",
    "import cv2\n",
    "import os\n",
    "import math\n",
    "from tqdm import tqdm\n",
    "import random"
   ]
  },
  {
   "cell_type": "code",
   "execution_count": 7,
   "metadata": {},
   "outputs": [],
   "source": [
    "FFT = True # whether to use FFT-based down-sampling\n",
    "scale = 1000 # down-sampling scale\n",
    "HR_dir=\"../Set5/\" # origin image folder"
   ]
  },
  {
   "cell_type": "code",
   "execution_count": 8,
   "metadata": {},
   "outputs": [],
   "source": [
    "# FFT high-pass filtering\n",
    "def high_pass_filtering(image, radius, n):\n",
    "    fft = cv2.dft(np.float32(image), flags=cv2.DFT_COMPLEX_OUTPUT)\n",
    "    dshift = np.fft.fftshift(fft)\n",
    "\n",
    "    rows, cols = image.shape[:2]\n",
    "    mid_row, mid_col = int(rows / 2), int(cols / 2)\n",
    "\n",
    "    mask = np.zeros((rows, cols, 2), np.float32)\n",
    "    for i in range(0, rows):\n",
    "        for j in range(0, cols):\n",
    "            d = math.sqrt(pow(i - mid_row, 2) + pow(j - mid_col, 2))\n",
    "            try:\n",
    "                mask[i, j, 0] = mask[i, j, 1] = 1 / (1 + pow(radius / d, 2*n))\n",
    "            except ZeroDivisionError:\n",
    "                mask[i, j, 0] = mask[i, j, 1] = 0\n",
    "    fft_filtering = dshift * mask\n",
    "    ishift = np.fft.ifftshift(fft_filtering)\n",
    "    image_filtering = cv2.idft(ishift)\n",
    "    image_filtering = cv2.magnitude(\n",
    "        image_filtering[:, :, 0], image_filtering[:, :, 1])\n",
    "    cv2.normalize(image_filtering, image_filtering, 0, 1, cv2.NORM_MINMAX)\n",
    "    return image_filtering"
   ]
  },
  {
   "cell_type": "code",
   "execution_count": 9,
   "metadata": {},
   "outputs": [],
   "source": [
    "class Triangle:\n",
    "    def __init__(self, coordinate, color) -> None:\n",
    "        self.coordinate = coordinate\n",
    "        self.color = color\n",
    "        self.A, self.B, self.C = self.coordinate[0], self.coordinate[1], self.coordinate[2]\n",
    "        self.ABx = self.B[0] - self.A[0]\n",
    "        self.ACx = self.C[0] - self.A[0]\n",
    "        self.ABy = self.B[1] - self.A[1]\n",
    "        self.ACy = self.C[1] - self.A[1]\n",
    "\n",
    "    def barycentric(self, P):\n",
    "        # compute the barycentric coordinates of P\n",
    "        s1 = np.array([[self.ABx, self.ACx, self.A[0] - P[i][0]]\n",
    "                       for i in range(P.shape[0])])\n",
    "        s2 = np.array([[self.ABy, self.ACy, self.A[1] - P[i][1]]\n",
    "                       for i in range(P.shape[0])])\n",
    "        _u = np.cross(s1, s2)\n",
    "        ans = [[1-(u[0]+u[1])/u[2], u[0]/u[2], u[1]/u[2]]\n",
    "               if abs(u[2]) > 0 else [-1, 1, 1]\n",
    "               for u in _u]\n",
    "        return np.array(ans)\n"
   ]
  },
  {
   "cell_type": "code",
   "execution_count": 10,
   "metadata": {},
   "outputs": [
    {
     "name": "stderr",
     "output_type": "stream",
     "text": [
      "                                                  \r"
     ]
    }
   ],
   "source": [
    "corner = np.array([[0, 0], [0, 1], [1, 0], [1, 1]])\n",
    "for root, dirs, files in os.walk(HR_dir):\n",
    "    # for file in tqdm(files, leave=True):\n",
    "    for file in files:\n",
    "        HR_img = cv2.imread(os.path.join(root, file))\n",
    "        point_num = HR_img.shape[0]*HR_img.shape[1]//scale\n",
    "        if FFT:\n",
    "            fft_HR_img = cv2.cvtColor(HR_img, cv2.COLOR_BGR2GRAY)\n",
    "            fft_HR_img = high_pass_filtering(fft_HR_img, 30, 1)\n",
    "            #! TODO This method may lead to prob*fft_HR_img[i][j] > 1\n",
    "            prob = point_num/(np.sum(fft_HR_img))\n",
    "            points = []\n",
    "            for i in range(HR_img.shape[0]):\n",
    "                for j in range(HR_img.shape[1]):\n",
    "                    if random.random() <= prob*fft_HR_img[i][j]:\n",
    "                        points.append([i, j])\n",
    "        else:  # sample randomly\n",
    "            points = np.random.random((point_num, 2))\n",
    "            points = np.array(\n",
    "                points*[HR_img.shape[0]-1, HR_img.shape[1]-1], dtype=int)\n",
    "        HR_img_corner = np.array(\n",
    "            corner*[HR_img.shape[0]-1, HR_img.shape[1]-1], dtype=int)\n",
    "        points = np.concatenate((HR_img_corner, np.array(points)))\n",
    "\n",
    "        delaunay = Delaunay(points)  # execute Delaunay triangualtion algorithm\n",
    "        points_coord = points[delaunay.simplices]\n",
    "        tris = [Triangle(c, np.array([HR_img[c[0][0]][c[0][1]], HR_img[c[1][0]]\n",
    "                                      [c[1][1]], HR_img[c[2][0]][c[2][1]]])) for c in points_coord]\n",
    "\n",
    "        computed = set()\n",
    "        LR_img = np.zeros((HR_img.shape[0], HR_img.shape[1], 3))\n",
    "        for t in tqdm(tris, leave=False):  # for each triangle\n",
    "            bbox = np.array([[np.min(t.coordinate[:, 0]), np.min(t.coordinate[:, 1])],\n",
    "                             [np.max(t.coordinate[:, 0]), np.max(t.coordinate[:, 1])]])\n",
    "            coord = np.array([[x, y] for x in range(bbox[0][0], bbox[1][0]+1)\n",
    "                              for y in range(bbox[0][1], bbox[1][1]+1)])\n",
    "            u = t.barycentric(coord)\n",
    "            colors = np.dot(u, t.color)  # interpolate color\n",
    "            for i in range(coord.shape[0]):\n",
    "                x, y = coord[i]\n",
    "                if (x, y) in computed:  # prevent from repeated computation\n",
    "                    continue\n",
    "                barycentric = u[i]\n",
    "                # in this triangle\n",
    "                if barycentric[0] >= 0 and barycentric[1] >= 0 and barycentric[2] >= 0:\n",
    "                    computed.add((x, y))\n",
    "                    LR_img[x][y] = colors[i]\n",
    "        # save LR image\n",
    "        LR_img = LR_img.astype(np.uint8)\n",
    "        output_dir = '../delaunay/{}/x{}'.format(\n",
    "            'FFT' if FFT else 'random', scale)\n",
    "        if not os.path.exists(output_dir):\n",
    "            os.makedirs(output_dir)\n",
    "        cv2.imwrite(os.path.join(output_dir, file), LR_img)\n"
   ]
  }
 ],
 "metadata": {
  "interpreter": {
   "hash": "c156225d649cdcab61d2beb93b7f2b03b859aa444dbacadf1aba4c6b276e13f8"
  },
  "kernelspec": {
   "display_name": "Python 3.7.9 64-bit ('torch_env': conda)",
   "language": "python",
   "name": "python3"
  },
  "language_info": {
   "codemirror_mode": {
    "name": "ipython",
    "version": 3
   },
   "file_extension": ".py",
   "mimetype": "text/x-python",
   "name": "python",
   "nbconvert_exporter": "python",
   "pygments_lexer": "ipython3",
   "version": "3.7.9"
  },
  "orig_nbformat": 4
 },
 "nbformat": 4,
 "nbformat_minor": 2
}
